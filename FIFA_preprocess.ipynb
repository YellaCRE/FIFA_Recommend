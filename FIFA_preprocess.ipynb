{
  "cells": [
    {
      "cell_type": "markdown",
      "metadata": {
        "id": "view-in-github",
        "colab_type": "text"
      },
      "source": [
        "<a href=\"https://colab.research.google.com/github/YellaCRE/FIFA_RecommandSystem/blob/main/FIFA_%EC%A0%84%EC%B2%98%EB%A6%AC.ipynb\" target=\"_parent\"><img src=\"https://colab.research.google.com/assets/colab-badge.svg\" alt=\"Open In Colab\"/></a>"
      ]
    },
    {
      "cell_type": "markdown",
      "source": [
        "# 피파온라인4 선수추천알고리즘_전처리 파이프라인"
      ],
      "metadata": {
        "id": "_Dew9FCtgKjM"
      },
      "id": "_Dew9FCtgKjM"
    },
    {
      "cell_type": "code",
      "execution_count": null,
      "id": "64f53a5b",
      "metadata": {
        "id": "64f53a5b"
      },
      "outputs": [],
      "source": [
        "import pandas as pd\n",
        "from pandas import DataFrame\n",
        "import re\n",
        "from tqdm import tqdm\n",
        "import numpy as np"
      ]
    },
    {
      "cell_type": "code",
      "source": [
        "from google.colab import drive\n",
        "drive.mount('/content/drive')"
      ],
      "metadata": {
        "colab": {
          "base_uri": "https://localhost:8080/"
        },
        "id": "kitHgiWuFRS2",
        "outputId": "9c5b4b40-b9fc-4ada-f03d-8f7d71eaef8f"
      },
      "id": "kitHgiWuFRS2",
      "execution_count": null,
      "outputs": [
        {
          "output_type": "stream",
          "name": "stdout",
          "text": [
            "Drive already mounted at /content/drive; to attempt to forcibly remount, call drive.mount(\"/content/drive\", force_remount=True).\n"
          ]
        }
      ]
    },
    {
      "cell_type": "code",
      "execution_count": null,
      "id": "2e35c74b",
      "metadata": {
        "id": "2e35c74b"
      },
      "outputs": [],
      "source": [
        "#player_df=pd.read_csv('D:/player_df.csv')\n",
        "player_df = pd.read_csv(\"/content/drive/MyDrive/2022.2 피파선수 추천 프로젝트/player_df.csv\")"
      ]
    },
    {
      "cell_type": "markdown",
      "source": [
        "#기본 전처리"
      ],
      "metadata": {
        "id": "jaoo7s8PO-U3"
      },
      "id": "jaoo7s8PO-U3"
    },
    {
      "cell_type": "markdown",
      "id": "69418273",
      "metadata": {
        "id": "69418273"
      },
      "source": [
        "포지션/스탯 분리"
      ]
    },
    {
      "cell_type": "code",
      "execution_count": null,
      "id": "cb674219",
      "metadata": {
        "scrolled": true,
        "id": "cb674219",
        "colab": {
          "base_uri": "https://localhost:8080/"
        },
        "outputId": "337d386f-2c5c-4c24-98f7-815027facbdd"
      },
      "outputs": [
        {
          "output_type": "stream",
          "name": "stderr",
          "text": [
            "100%|██████████| 1000/1000 [00:00<00:00, 2704.05it/s]\n"
          ]
        }
      ],
      "source": [
        "player_df.insert(5,\"포지션\",0)\n",
        "player_df.insert(6,\"스탯\",0)\n",
        "player_df.iat[0,6]=re.findall(\"\\d+\", player_df['포지션/스탯'][0])[0]\n",
        "\n",
        "for i in tqdm(range(len(player_df))):\n",
        "    player_df.iat[i,5]=re.findall(\"[a-zA-Z]+\", player_df['포지션/스탯'][i])[0]\n",
        "    player_df.iat[i,6]=re.findall(\"\\d+\", player_df['포지션/스탯'][i])[0]\n",
        "\n",
        "player_df=player_df.drop(['포지션/스탯'],axis=1)\n",
        "col_name = ['index','id','name','시즌','포지션','스탯', '키', '몸무게', '속력', '가속력', '골 결정력', '슛 파워', '중거리 슛', '위치 선정', '발리 슛', '페널티 킥', '짧은 패스', '시야', '크로스', '긴 패스', '프리킥', '커브', '드리블', '볼 컨트롤', '민첩성', '밸런스', '반응 속도', '대인 수비', '태클', '가로채기', '헤더', '슬라이딩 태클', '몸싸움', '스태미너', '적극성', '점프', '침착성', 'GK 다이빙', 'GK 핸들링', 'GK 킥', 'GK 반응속도', 'GK 위치선정','개인기', '특성', '급여', '주발/약발', '체형', '국적', '클럽경력','출전','득점','도움','유효슈팅','일반슈팅','패스성공률','드리블성공률','공중볼경합성공률','가로채기','태클성공률','차단성공률','선방','평점']\n",
        "player_df=player_df[col_name]"
      ]
    },
    {
      "cell_type": "markdown",
      "id": "cffe191a",
      "metadata": {
        "id": "cffe191a"
      },
      "source": [
        "주발/약발 나누기"
      ]
    },
    {
      "cell_type": "code",
      "execution_count": null,
      "id": "b69c98fa",
      "metadata": {
        "id": "b69c98fa",
        "colab": {
          "base_uri": "https://localhost:8080/"
        },
        "outputId": "f8ce9dab-f38e-4587-aed1-5b36a57b8302"
      },
      "outputs": [
        {
          "output_type": "stream",
          "name": "stderr",
          "text": [
            "100%|██████████| 1000/1000 [00:00<00:00, 3510.99it/s]\n"
          ]
        }
      ],
      "source": [
        "player_df.insert(46,\"left\",0)\n",
        "player_df.insert(47,\"right\",0)\n",
        "player_df=player_df.loc[:,~player_df.T.duplicated()]\n",
        "player_df.insert(46,\"right\",0)\n",
        "\n",
        "for i in tqdm(range(len(player_df))):\n",
        "    player_df.iat[i,46]=re.findall(\"\\d\", player_df['주발/약발'][i])[0]\n",
        "    player_df.iat[i,47]=re.findall(\"\\d\", player_df['주발/약발'][i])[1]\n",
        "\n",
        "player_df=player_df.drop(['주발/약발'],axis=1)"
      ]
    },
    {
      "cell_type": "markdown",
      "id": "d3c31c0c",
      "metadata": {
        "id": "d3c31c0c"
      },
      "source": [
        "특성 onehotencoding"
      ]
    },
    {
      "cell_type": "code",
      "execution_count": null,
      "id": "f0cf337d",
      "metadata": {
        "id": "f0cf337d",
        "outputId": "afbd848e-263a-4f37-e2a2-e9146a6c113a",
        "colab": {
          "base_uri": "https://localhost:8080/"
        }
      },
      "outputs": [
        {
          "output_type": "stream",
          "name": "stdout",
          "text": [
            "['GK공격가담', 'GK능숙한펀칭', 'GK멀리던지기', 'GK소극적크로스수비', 'GK적극적크로스수비', 'GK침착한1:1수비', '강철몸', '개인플레이선호', '긴패스선호', '다이버', '스위퍼키퍼', '스피드드리블러', '슬라이딩태클선호', '승부욕', '아웃사이드슈팅/크로스', '얼리크로스선호', '없음', '예리한감아차기', '유리몸', '장거리스로잉', '주발선호', '중거리슛선호', '초장거리스로인', '칩슛선호', '테크니컬드리블러', '트러블메이커', '파워헤더', '패스마스터', '플레이메이커', '화려한개인기', '화려한걷어내기']\n"
          ]
        }
      ],
      "source": [
        "#결측값 처리\n",
        "player_df = player_df.fillna('없음')\n",
        "\n",
        "player_hidden_iter = (set(x.split(',')) for x in player_df.특성)\n",
        "player_hidden_set = sorted(set.union(*player_hidden_iter))\n",
        "print(player_hidden_set)\n",
        "indicator_mat = DataFrame(np.zeros((len(player_df), len(player_hidden_set))), columns=player_hidden_set)\n",
        "\n",
        "for i, j in enumerate(player_df.특성):\n",
        "    indicator_mat.loc[i, j.split(',')] = 1\n",
        "\n",
        "player_df=player_df.drop(['특성'],axis=1)"
      ]
    },
    {
      "cell_type": "markdown",
      "id": "721ba713",
      "metadata": {
        "id": "721ba713"
      },
      "source": [
        "체형"
      ]
    },
    {
      "cell_type": "code",
      "execution_count": null,
      "id": "f69edfcb",
      "metadata": {
        "id": "f69edfcb"
      },
      "outputs": [],
      "source": [
        "player_df['체형']=player_df['체형'].replace('마름','90')\n",
        "player_df['체형']=player_df['체형'].replace('보통','100')\n",
        "player_df['체형']=player_df['체형'].replace('건장','110')"
      ]
    },
    {
      "cell_type": "markdown",
      "source": [
        "키 몸무게 단위 제거"
      ],
      "metadata": {
        "id": "5odvUMRzNWP1"
      },
      "id": "5odvUMRzNWP1"
    },
    {
      "cell_type": "code",
      "source": [
        "player_df['키'] = player_df['키'].str.replace('cm', '').astype('int64')\n",
        "player_df['몸무게'] = player_df['몸무게'].str.replace('kg', '').astype('int64')"
      ],
      "metadata": {
        "id": "Mc4u_bYXNa5f"
      },
      "id": "Mc4u_bYXNa5f",
      "execution_count": null,
      "outputs": []
    },
    {
      "cell_type": "markdown",
      "source": [
        "#강화 적용"
      ],
      "metadata": {
        "id": "8SBzqnWPCN9l"
      },
      "id": "8SBzqnWPCN9l"
    },
    {
      "cell_type": "code",
      "source": [
        "num_coloums = ['index', 'id', 'name', '시즌', '포지션', '스탯', '키', '몸무게', '속력', '가속력',\n",
        "              '골 결정력', '슛 파워', '중거리 슛', '위치 선정', '발리 슛', '페널티 킥', '짧은 패스', '시야',\n",
        "              '크로스', '긴 패스', '프리킥', '커브', '드리블', '볼 컨트롤', '민첩성', '밸런스', '반응 속도',\n",
        "              '대인 수비', '태클', '가로채기', '헤더', '슬라이딩 태클', '몸싸움', '스태미너', '적극성', '점프',\n",
        "              '침착성', 'GK 다이빙', 'GK 핸들링', 'GK 킥', 'GK 반응속도', 'GK 위치선정', '개인기', '급여',\n",
        "              'right', 'left', '체형']\n",
        "stat_coloums = ['스탯','속력', '가속력', '골 결정력', '슛 파워', '중거리 슛', '위치 선정', '발리 슛', \n",
        "                '페널티 킥','짧은 패스', '시야', '크로스', '긴 패스', '프리킥', '커브', '드리블', '볼 컨트롤', \n",
        "                '민첩성', '밸런스','반응 속도', '대인 수비', '태클', '가로채기', '헤더', '슬라이딩 태클', '몸싸움', \n",
        "                '스태미너', '적극성','점프', '침착성', 'GK 다이빙', 'GK 핸들링', 'GK 킥', 'GK 반응속도', 'GK 위치선정']\n",
        "                \n",
        "player_num = pd.concat([player_df[num_coloums],indicator_mat], axis=1)\n",
        "player_stats=player_num[stat_coloums].astype('int64')"
      ],
      "metadata": {
        "id": "wavGB0rKIxag"
      },
      "id": "wavGB0rKIxag",
      "execution_count": null,
      "outputs": []
    },
    {
      "cell_type": "markdown",
      "source": [
        "강화 스탯 적용"
      ],
      "metadata": {
        "id": "SRaZmGuz-WVB"
      },
      "id": "SRaZmGuz-WVB"
    },
    {
      "cell_type": "code",
      "execution_count": null,
      "metadata": {
        "id": "2a1bb621"
      },
      "outputs": [],
      "source": [
        "#순서대로 1강\n",
        "player_stats1 = player_stats+3 #0강에서 1강으로 갈 때 전체 스탯 상승폭은 3이다\n",
        "player_stats2 = player_stats1+1\n",
        "player_stats3 = player_stats2+1\n",
        "player_stats4 = player_stats3+2\n",
        "player_stats5 = player_stats4+2\n",
        "player_stats6 = player_stats5+2\n",
        "player_stats7 = player_stats6+3\n",
        "player_stats8 = player_stats7+4\n",
        "player_stats9 = player_stats8+4\n",
        "player_stats10 = player_stats9+5"
      ],
      "id": "2a1bb621"
    },
    {
      "cell_type": "code",
      "source": [
        "#강화 수치 리스트 생성\n",
        "for n in range(1,11): \n",
        "  globals()['강화'+str(n)] = []\n",
        "  for i in range(len(player_num)):\n",
        "    globals()['강화'+str(n)].append(n)\n",
        "\n",
        "#순서 재배열\n",
        "indicator_name = player_num.columns[47:]\n",
        "ID=player_num[['index', 'id', 'name', '시즌', '포지션', '키', '몸무게']]\n",
        "indicator=player_num[indicator_name]\n",
        "filter=player_num[['개인기', 'left', 'right','급여','체형']]\n",
        "\n",
        "#강화 수치별 데이터프레임 형성\n",
        "for n in range(1,11): \n",
        "  globals()['player_num'+str(n)] = pd.concat([ID,globals()['player_stats'+str(n)],filter,pd.DataFrame(globals()['강화'+str(n)]),indicator],axis=1)\n",
        "\n",
        "#최종 데이터 형식 player_num_total\n",
        "player_num_total = pd.DataFrame()\n",
        "for n in range(1,11):\n",
        "  player_num_total = pd.concat([player_num_total,globals()['player_num'+str(n)]])\n",
        "\n",
        "player_num_total.rename(columns={0:'강화'},inplace=True)"
      ],
      "metadata": {
        "id": "WJK6bScpKS3U"
      },
      "id": "WJK6bScpKS3U",
      "execution_count": null,
      "outputs": []
    },
    {
      "cell_type": "markdown",
      "source": [
        "# csv 변환"
      ],
      "metadata": {
        "id": "UzB9oi5sCeVe"
      },
      "id": "UzB9oi5sCeVe"
    },
    {
      "cell_type": "code",
      "execution_count": null,
      "metadata": {
        "id": "7246a0be"
      },
      "outputs": [],
      "source": [
        "player_num_total.to_csv(\"player_num_total.csv\", mode='w', index=False, encoding=\"utf-8-sig\")"
      ],
      "id": "7246a0be"
    }
  ],
  "metadata": {
    "kernelspec": {
      "display_name": "Python 3 (ipykernel)",
      "language": "python",
      "name": "python3"
    },
    "language_info": {
      "codemirror_mode": {
        "name": "ipython",
        "version": 3
      },
      "file_extension": ".py",
      "mimetype": "text/x-python",
      "name": "python",
      "nbconvert_exporter": "python",
      "pygments_lexer": "ipython3",
      "version": "3.9.7"
    },
    "colab": {
      "name": "FIFA_전처리.ipynb",
      "provenance": [],
      "collapsed_sections": [
        "jaoo7s8PO-U3",
        "8SBzqnWPCN9l",
        "UzB9oi5sCeVe"
      ],
      "include_colab_link": true
    }
  },
  "nbformat": 4,
  "nbformat_minor": 5
}
